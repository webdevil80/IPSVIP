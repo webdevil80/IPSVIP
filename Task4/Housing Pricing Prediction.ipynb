{
  "nbformat": 4,
  "nbformat_minor": 0,
  "metadata": {
    "colab": {
      "name": "Housing Pricing Prediction.ipynb",
      "provenance": [],
      "collapsed_sections": [
        "uDIh3qbmZgx0"
      ]
    },
    "kernelspec": {
      "name": "python3",
      "display_name": "Python 3"
    },
    "language_info": {
      "name": "python"
    }
  },
  "cells": [
    {
      "cell_type": "markdown",
      "metadata": {
        "id": "uDIh3qbmZgx0"
      },
      "source": [
        "###*Name : Vetrivel D*\n",
        "###*Task 4 : Housing Prices Prediction Project*\n",
        "###*Role : Machine Learning Intern at Info Pillar Solution*"
      ]
    },
    {
      "cell_type": "markdown",
      "metadata": {
        "id": "-yiIFfStvhc6"
      },
      "source": [
        "##**Table of Content :**\n",
        "\n",
        "\n",
        "*   Importing the libraries and import database\n",
        "*   INitialize DataFrame\n",
        "\n",
        "*   Adding Feature Name to the DataFrame\n",
        "*   Declare Target Variable\n",
        "\n",
        "\n",
        "*   Checking Missing Values\n",
        "*   Splitting data as Predict_value-X and Target_value-y\n",
        "\n",
        "*   Import Random Forest Regressor\n",
        "*   Model Prediction\n",
        "\n",
        "*   Finding MAE, MSE, RMSE errors\n",
        "*   Visualizing the predictions\n",
        "*   Conclusion\n",
        "\n",
        "\n",
        "\n",
        "\n",
        "\n",
        "\n",
        "\n",
        "\n",
        "\n",
        "\n"
      ]
    },
    {
      "cell_type": "markdown",
      "metadata": {
        "id": "6T7bGFCmaHdl"
      },
      "source": [
        "#**Importing the libraries and import database**"
      ]
    },
    {
      "cell_type": "code",
      "metadata": {
        "id": "SIyUEuhtaQvc"
      },
      "source": [
        "#import libraries\n",
        "import pandas as pd\n",
        "import numpy as np\n",
        "from sklearn import metrics\n",
        "import matplotlib.pyplot as plt\n",
        "import seaborn as sns\n",
        "%matplotlib inline"
      ],
      "execution_count": 20,
      "outputs": []
    },
    {
      "cell_type": "code",
      "metadata": {
        "colab": {
          "base_uri": "https://localhost:8080/"
        },
        "id": "bDfe-ISkb3Yo",
        "outputId": "d4b4f80f-7f17-4217-b705-ac887d804cf3"
      },
      "source": [
        "#import dataset\n",
        "from sklearn.datasets import load_boston\n",
        "boston = load_boston()"
      ],
      "execution_count": 21,
      "outputs": [
        {
          "output_type": "stream",
          "name": "stderr",
          "text": [
            "/usr/local/lib/python3.7/dist-packages/sklearn/utils/deprecation.py:87: FutureWarning: Function load_boston is deprecated; `load_boston` is deprecated in 1.0 and will be removed in 1.2.\n",
            "\n",
            "    The Boston housing prices dataset has an ethical problem. You can refer to\n",
            "    the documentation of this function for further details.\n",
            "\n",
            "    The scikit-learn maintainers therefore strongly discourage the use of this\n",
            "    dataset unless the purpose of the code is to study and educate about\n",
            "    ethical issues in data science and machine learning.\n",
            "\n",
            "    In this special case, you can fetch the dataset from the original\n",
            "    source::\n",
            "\n",
            "        import pandas as pd\n",
            "        import numpy as np\n",
            "\n",
            "\n",
            "        data_url = \"http://lib.stat.cmu.edu/datasets/boston\"\n",
            "        raw_df = pd.read_csv(data_url, sep=\"\\s+\", skiprows=22, header=None)\n",
            "        data = np.hstack([raw_df.values[::2, :], raw_df.values[1::2, :2]])\n",
            "        target = raw_df.values[1::2, 2]\n",
            "\n",
            "    Alternative datasets include the California housing dataset (i.e.\n",
            "    :func:`~sklearn.datasets.fetch_california_housing`) and the Ames housing\n",
            "    dataset. You can load the datasets as follows::\n",
            "\n",
            "        from sklearn.datasets import fetch_california_housing\n",
            "        housing = fetch_california_housing()\n",
            "\n",
            "    for the California housing dataset and::\n",
            "\n",
            "        from sklearn.datasets import fetch_openml\n",
            "        housing = fetch_openml(name=\"house_prices\", as_frame=True)\n",
            "\n",
            "    for the Ames housing dataset.\n",
            "    \n",
            "  warnings.warn(msg, category=FutureWarning)\n"
          ]
        }
      ]
    },
    {
      "cell_type": "code",
      "metadata": {
        "id": "h8ItrUSKcIdL"
      },
      "source": [
        "#initialize the dataframe\n",
        "data = pd.DataFrame(boston.data)"
      ],
      "execution_count": 22,
      "outputs": []
    },
    {
      "cell_type": "code",
      "metadata": {
        "colab": {
          "base_uri": "https://localhost:8080/",
          "height": 206
        },
        "id": "dNlG9hT0cUvC",
        "outputId": "125ca517-4add-4fa4-cea7-a0abce2546f9"
      },
      "source": [
        "data.head()"
      ],
      "execution_count": 23,
      "outputs": [
        {
          "output_type": "execute_result",
          "data": {
            "text/html": [
              "<div>\n",
              "<style scoped>\n",
              "    .dataframe tbody tr th:only-of-type {\n",
              "        vertical-align: middle;\n",
              "    }\n",
              "\n",
              "    .dataframe tbody tr th {\n",
              "        vertical-align: top;\n",
              "    }\n",
              "\n",
              "    .dataframe thead th {\n",
              "        text-align: right;\n",
              "    }\n",
              "</style>\n",
              "<table border=\"1\" class=\"dataframe\">\n",
              "  <thead>\n",
              "    <tr style=\"text-align: right;\">\n",
              "      <th></th>\n",
              "      <th>0</th>\n",
              "      <th>1</th>\n",
              "      <th>2</th>\n",
              "      <th>3</th>\n",
              "      <th>4</th>\n",
              "      <th>5</th>\n",
              "      <th>6</th>\n",
              "      <th>7</th>\n",
              "      <th>8</th>\n",
              "      <th>9</th>\n",
              "      <th>10</th>\n",
              "      <th>11</th>\n",
              "      <th>12</th>\n",
              "    </tr>\n",
              "  </thead>\n",
              "  <tbody>\n",
              "    <tr>\n",
              "      <th>0</th>\n",
              "      <td>0.00632</td>\n",
              "      <td>18.0</td>\n",
              "      <td>2.31</td>\n",
              "      <td>0.0</td>\n",
              "      <td>0.538</td>\n",
              "      <td>6.575</td>\n",
              "      <td>65.2</td>\n",
              "      <td>4.0900</td>\n",
              "      <td>1.0</td>\n",
              "      <td>296.0</td>\n",
              "      <td>15.3</td>\n",
              "      <td>396.90</td>\n",
              "      <td>4.98</td>\n",
              "    </tr>\n",
              "    <tr>\n",
              "      <th>1</th>\n",
              "      <td>0.02731</td>\n",
              "      <td>0.0</td>\n",
              "      <td>7.07</td>\n",
              "      <td>0.0</td>\n",
              "      <td>0.469</td>\n",
              "      <td>6.421</td>\n",
              "      <td>78.9</td>\n",
              "      <td>4.9671</td>\n",
              "      <td>2.0</td>\n",
              "      <td>242.0</td>\n",
              "      <td>17.8</td>\n",
              "      <td>396.90</td>\n",
              "      <td>9.14</td>\n",
              "    </tr>\n",
              "    <tr>\n",
              "      <th>2</th>\n",
              "      <td>0.02729</td>\n",
              "      <td>0.0</td>\n",
              "      <td>7.07</td>\n",
              "      <td>0.0</td>\n",
              "      <td>0.469</td>\n",
              "      <td>7.185</td>\n",
              "      <td>61.1</td>\n",
              "      <td>4.9671</td>\n",
              "      <td>2.0</td>\n",
              "      <td>242.0</td>\n",
              "      <td>17.8</td>\n",
              "      <td>392.83</td>\n",
              "      <td>4.03</td>\n",
              "    </tr>\n",
              "    <tr>\n",
              "      <th>3</th>\n",
              "      <td>0.03237</td>\n",
              "      <td>0.0</td>\n",
              "      <td>2.18</td>\n",
              "      <td>0.0</td>\n",
              "      <td>0.458</td>\n",
              "      <td>6.998</td>\n",
              "      <td>45.8</td>\n",
              "      <td>6.0622</td>\n",
              "      <td>3.0</td>\n",
              "      <td>222.0</td>\n",
              "      <td>18.7</td>\n",
              "      <td>394.63</td>\n",
              "      <td>2.94</td>\n",
              "    </tr>\n",
              "    <tr>\n",
              "      <th>4</th>\n",
              "      <td>0.06905</td>\n",
              "      <td>0.0</td>\n",
              "      <td>2.18</td>\n",
              "      <td>0.0</td>\n",
              "      <td>0.458</td>\n",
              "      <td>7.147</td>\n",
              "      <td>54.2</td>\n",
              "      <td>6.0622</td>\n",
              "      <td>3.0</td>\n",
              "      <td>222.0</td>\n",
              "      <td>18.7</td>\n",
              "      <td>396.90</td>\n",
              "      <td>5.33</td>\n",
              "    </tr>\n",
              "  </tbody>\n",
              "</table>\n",
              "</div>"
            ],
            "text/plain": [
              "        0     1     2    3      4   ...   8      9     10      11    12\n",
              "0  0.00632  18.0  2.31  0.0  0.538  ...  1.0  296.0  15.3  396.90  4.98\n",
              "1  0.02731   0.0  7.07  0.0  0.469  ...  2.0  242.0  17.8  396.90  9.14\n",
              "2  0.02729   0.0  7.07  0.0  0.469  ...  2.0  242.0  17.8  392.83  4.03\n",
              "3  0.03237   0.0  2.18  0.0  0.458  ...  3.0  222.0  18.7  394.63  2.94\n",
              "4  0.06905   0.0  2.18  0.0  0.458  ...  3.0  222.0  18.7  396.90  5.33\n",
              "\n",
              "[5 rows x 13 columns]"
            ]
          },
          "metadata": {},
          "execution_count": 23
        }
      ]
    },
    {
      "cell_type": "code",
      "metadata": {
        "colab": {
          "base_uri": "https://localhost:8080/",
          "height": 206
        },
        "id": "ok12eQZdckMb",
        "outputId": "04d3f6be-1996-4148-e110-ff7564f31d78"
      },
      "source": [
        "#Adding feature names to the dataframe\n",
        "data.columns = boston.feature_names\n",
        "data.head()"
      ],
      "execution_count": 24,
      "outputs": [
        {
          "output_type": "execute_result",
          "data": {
            "text/html": [
              "<div>\n",
              "<style scoped>\n",
              "    .dataframe tbody tr th:only-of-type {\n",
              "        vertical-align: middle;\n",
              "    }\n",
              "\n",
              "    .dataframe tbody tr th {\n",
              "        vertical-align: top;\n",
              "    }\n",
              "\n",
              "    .dataframe thead th {\n",
              "        text-align: right;\n",
              "    }\n",
              "</style>\n",
              "<table border=\"1\" class=\"dataframe\">\n",
              "  <thead>\n",
              "    <tr style=\"text-align: right;\">\n",
              "      <th></th>\n",
              "      <th>CRIM</th>\n",
              "      <th>ZN</th>\n",
              "      <th>INDUS</th>\n",
              "      <th>CHAS</th>\n",
              "      <th>NOX</th>\n",
              "      <th>RM</th>\n",
              "      <th>AGE</th>\n",
              "      <th>DIS</th>\n",
              "      <th>RAD</th>\n",
              "      <th>TAX</th>\n",
              "      <th>PTRATIO</th>\n",
              "      <th>B</th>\n",
              "      <th>LSTAT</th>\n",
              "    </tr>\n",
              "  </thead>\n",
              "  <tbody>\n",
              "    <tr>\n",
              "      <th>0</th>\n",
              "      <td>0.00632</td>\n",
              "      <td>18.0</td>\n",
              "      <td>2.31</td>\n",
              "      <td>0.0</td>\n",
              "      <td>0.538</td>\n",
              "      <td>6.575</td>\n",
              "      <td>65.2</td>\n",
              "      <td>4.0900</td>\n",
              "      <td>1.0</td>\n",
              "      <td>296.0</td>\n",
              "      <td>15.3</td>\n",
              "      <td>396.90</td>\n",
              "      <td>4.98</td>\n",
              "    </tr>\n",
              "    <tr>\n",
              "      <th>1</th>\n",
              "      <td>0.02731</td>\n",
              "      <td>0.0</td>\n",
              "      <td>7.07</td>\n",
              "      <td>0.0</td>\n",
              "      <td>0.469</td>\n",
              "      <td>6.421</td>\n",
              "      <td>78.9</td>\n",
              "      <td>4.9671</td>\n",
              "      <td>2.0</td>\n",
              "      <td>242.0</td>\n",
              "      <td>17.8</td>\n",
              "      <td>396.90</td>\n",
              "      <td>9.14</td>\n",
              "    </tr>\n",
              "    <tr>\n",
              "      <th>2</th>\n",
              "      <td>0.02729</td>\n",
              "      <td>0.0</td>\n",
              "      <td>7.07</td>\n",
              "      <td>0.0</td>\n",
              "      <td>0.469</td>\n",
              "      <td>7.185</td>\n",
              "      <td>61.1</td>\n",
              "      <td>4.9671</td>\n",
              "      <td>2.0</td>\n",
              "      <td>242.0</td>\n",
              "      <td>17.8</td>\n",
              "      <td>392.83</td>\n",
              "      <td>4.03</td>\n",
              "    </tr>\n",
              "    <tr>\n",
              "      <th>3</th>\n",
              "      <td>0.03237</td>\n",
              "      <td>0.0</td>\n",
              "      <td>2.18</td>\n",
              "      <td>0.0</td>\n",
              "      <td>0.458</td>\n",
              "      <td>6.998</td>\n",
              "      <td>45.8</td>\n",
              "      <td>6.0622</td>\n",
              "      <td>3.0</td>\n",
              "      <td>222.0</td>\n",
              "      <td>18.7</td>\n",
              "      <td>394.63</td>\n",
              "      <td>2.94</td>\n",
              "    </tr>\n",
              "    <tr>\n",
              "      <th>4</th>\n",
              "      <td>0.06905</td>\n",
              "      <td>0.0</td>\n",
              "      <td>2.18</td>\n",
              "      <td>0.0</td>\n",
              "      <td>0.458</td>\n",
              "      <td>7.147</td>\n",
              "      <td>54.2</td>\n",
              "      <td>6.0622</td>\n",
              "      <td>3.0</td>\n",
              "      <td>222.0</td>\n",
              "      <td>18.7</td>\n",
              "      <td>396.90</td>\n",
              "      <td>5.33</td>\n",
              "    </tr>\n",
              "  </tbody>\n",
              "</table>\n",
              "</div>"
            ],
            "text/plain": [
              "      CRIM    ZN  INDUS  CHAS    NOX  ...  RAD    TAX  PTRATIO       B  LSTAT\n",
              "0  0.00632  18.0   2.31   0.0  0.538  ...  1.0  296.0     15.3  396.90   4.98\n",
              "1  0.02731   0.0   7.07   0.0  0.469  ...  2.0  242.0     17.8  396.90   9.14\n",
              "2  0.02729   0.0   7.07   0.0  0.469  ...  2.0  242.0     17.8  392.83   4.03\n",
              "3  0.03237   0.0   2.18   0.0  0.458  ...  3.0  222.0     18.7  394.63   2.94\n",
              "4  0.06905   0.0   2.18   0.0  0.458  ...  3.0  222.0     18.7  396.90   5.33\n",
              "\n",
              "[5 rows x 13 columns]"
            ]
          },
          "metadata": {},
          "execution_count": 24
        }
      ]
    },
    {
      "cell_type": "code",
      "metadata": {
        "id": "uYljtlb2cwLr"
      },
      "source": [
        "#declare target variable \n",
        "data['PRICE_VAL'] = boston.target"
      ],
      "execution_count": 25,
      "outputs": []
    },
    {
      "cell_type": "code",
      "metadata": {
        "colab": {
          "base_uri": "https://localhost:8080/"
        },
        "id": "jp_wnU72c-Lm",
        "outputId": "65acb1f6-58f2-4bbd-c0b8-9c2e22635790"
      },
      "source": [
        "data.shape"
      ],
      "execution_count": 26,
      "outputs": [
        {
          "output_type": "execute_result",
          "data": {
            "text/plain": [
              "(506, 14)"
            ]
          },
          "metadata": {},
          "execution_count": 26
        }
      ]
    },
    {
      "cell_type": "code",
      "source": [
        "data.columns"
      ],
      "metadata": {
        "id": "agmXSVcnZ7Ww",
        "outputId": "799bc0b3-fdbe-4b47-ccdc-368ef47104bc",
        "colab": {
          "base_uri": "https://localhost:8080/"
        }
      },
      "execution_count": 27,
      "outputs": [
        {
          "output_type": "execute_result",
          "data": {
            "text/plain": [
              "Index(['CRIM', 'ZN', 'INDUS', 'CHAS', 'NOX', 'RM', 'AGE', 'DIS', 'RAD', 'TAX',\n",
              "       'PTRATIO', 'B', 'LSTAT', 'PRICE_VAL'],\n",
              "      dtype='object')"
            ]
          },
          "metadata": {},
          "execution_count": 27
        }
      ]
    },
    {
      "cell_type": "code",
      "source": [
        "data.dtypes"
      ],
      "metadata": {
        "id": "334_1HYEZ9Sl",
        "outputId": "2265f5f6-2f80-435a-de6e-11ed052def77",
        "colab": {
          "base_uri": "https://localhost:8080/"
        }
      },
      "execution_count": 28,
      "outputs": [
        {
          "output_type": "execute_result",
          "data": {
            "text/plain": [
              "CRIM         float64\n",
              "ZN           float64\n",
              "INDUS        float64\n",
              "CHAS         float64\n",
              "NOX          float64\n",
              "RM           float64\n",
              "AGE          float64\n",
              "DIS          float64\n",
              "RAD          float64\n",
              "TAX          float64\n",
              "PTRATIO      float64\n",
              "B            float64\n",
              "LSTAT        float64\n",
              "PRICE_VAL    float64\n",
              "dtype: object"
            ]
          },
          "metadata": {},
          "execution_count": 28
        }
      ]
    },
    {
      "cell_type": "code",
      "metadata": {
        "colab": {
          "base_uri": "https://localhost:8080/"
        },
        "id": "wFlseJAade3f",
        "outputId": "b3daf51f-43cb-4269-b256-cb864d59fab6"
      },
      "source": [
        "#Checking missing values\n",
        "data.isnull().sum()"
      ],
      "execution_count": 29,
      "outputs": [
        {
          "output_type": "execute_result",
          "data": {
            "text/plain": [
              "CRIM         0\n",
              "ZN           0\n",
              "INDUS        0\n",
              "CHAS         0\n",
              "NOX          0\n",
              "RM           0\n",
              "AGE          0\n",
              "DIS          0\n",
              "RAD          0\n",
              "TAX          0\n",
              "PTRATIO      0\n",
              "B            0\n",
              "LSTAT        0\n",
              "PRICE_VAL    0\n",
              "dtype: int64"
            ]
          },
          "metadata": {},
          "execution_count": 29
        }
      ]
    },
    {
      "cell_type": "code",
      "metadata": {
        "colab": {
          "base_uri": "https://localhost:8080/"
        },
        "id": "StnwU9bTdzIB",
        "outputId": "fa3026d1-6269-40f0-ebe9-344cf8403baa"
      },
      "source": [
        "#describe our data and find correlation for the data\n",
        "data.describe()\n",
        "corr = data.corr()\n",
        "corr.shape"
      ],
      "execution_count": 30,
      "outputs": [
        {
          "output_type": "execute_result",
          "data": {
            "text/plain": [
              "(14, 14)"
            ]
          },
          "metadata": {},
          "execution_count": 30
        }
      ]
    },
    {
      "cell_type": "markdown",
      "metadata": {
        "id": "Nw_quSpCeVb_"
      },
      "source": [
        "#**Spliting data as  predict_value-X  and  target_value-y**"
      ]
    },
    {
      "cell_type": "code",
      "metadata": {
        "id": "8F1ddtGAeaHq"
      },
      "source": [
        "X = data.drop(['PRICE_VAL'], axis = 1)\n",
        "y = data['PRICE_VAL']"
      ],
      "execution_count": 31,
      "outputs": []
    },
    {
      "cell_type": "code",
      "metadata": {
        "id": "X1mERr4qejjf"
      },
      "source": [
        "from sklearn.model_selection import train_test_split\n",
        "X_train, X_test, y_train, y_test = train_test_split(X,y, test_size = 0.3, random_state = 4)"
      ],
      "execution_count": 32,
      "outputs": []
    },
    {
      "cell_type": "markdown",
      "metadata": {
        "id": "cDrpexxlepit"
      },
      "source": [
        "#**Importing random Forest regressor**"
      ]
    },
    {
      "cell_type": "code",
      "metadata": {
        "colab": {
          "base_uri": "https://localhost:8080/"
        },
        "id": "gVuWMfC4ewH-",
        "outputId": "d84fe131-e521-48b4-b614-93421373b4e9"
      },
      "source": [
        "from sklearn.ensemble import RandomForestRegressor\n",
        "reg = RandomForestRegressor()\n",
        "reg.fit(X_train, y_train)"
      ],
      "execution_count": 33,
      "outputs": [
        {
          "output_type": "execute_result",
          "data": {
            "text/plain": [
              "RandomForestRegressor()"
            ]
          },
          "metadata": {},
          "execution_count": 33
        }
      ]
    },
    {
      "cell_type": "code",
      "metadata": {
        "id": "Pshw3uGbfDNd",
        "colab": {
          "base_uri": "https://localhost:8080/"
        },
        "outputId": "03bf0058-294c-413e-a3dd-5cbf58274832"
      },
      "source": [
        "#model prediction\n",
        "y_pred = reg.predict(X_train)\n",
        "y_pred"
      ],
      "execution_count": 34,
      "outputs": [
        {
          "output_type": "execute_result",
          "data": {
            "text/plain": [
              "array([23.213, 18.884, 20.24 , 13.769, 47.98 , 21.436, 47.785, 14.023,\n",
              "       20.886, 48.971, 34.76 , 10.894, 15.259, 22.342, 24.59 , 24.894,\n",
              "       18.131, 45.018, 23.024, 21.006, 18.25 , 19.637, 19.444, 14.205,\n",
              "       22.875, 15.416, 15.323, 45.851, 20.771, 14.352, 16.147, 21.761,\n",
              "       21.776, 21.691, 23.527, 18.088, 16.075,  5.757,  8.534, 25.302,\n",
              "       18.8  , 21.525, 30.348,  6.123, 11.504,  7.396, 33.261, 14.947,\n",
              "       12.855, 26.472, 17.582,  6.729, 23.348, 23.697, 22.898, 18.355,\n",
              "       13.211, 23.45 , 24.715, 15.225,  9.797, 22.322, 22.786, 28.65 ,\n",
              "       14.67 , 18.928, 20.576, 14.751, 20.119, 17.894, 20.043, 42.635,\n",
              "       28.933, 20.222, 17.316, 19.434, 21.64 , 33.13 , 46.73 , 32.648,\n",
              "       20.658, 21.363,  9.112, 12.346, 14.12 , 22.484, 18.895, 21.169,\n",
              "       21.547, 21.33 , 17.458, 22.465, 35.163, 28.6  , 11.721, 19.626,\n",
              "       22.256,  9.061, 21.639, 19.099, 20.869, 24.027, 23.536, 19.779,\n",
              "       25.721, 49.042, 10.409, 17.923, 14.305, 15.883, 17.176, 16.138,\n",
              "       20.768, 20.991, 28.745, 21.724, 22.49 , 24.457, 25.886, 36.761,\n",
              "       18.514, 27.844, 19.297, 21.843, 23.055, 24.115, 27.262, 20.683,\n",
              "       22.875, 19.086, 16.163, 23.296, 13.866, 19.548, 21.163, 21.375,\n",
              "       23.632, 21.87 , 21.088, 12.19 , 22.958, 23.72 , 23.383, 13.943,\n",
              "       24.502, 21.   , 20.042, 31.779, 47.577, 14.784, 35.133, 22.614,\n",
              "       19.157, 19.527, 13.852, 15.417, 24.724, 29.419, 25.084, 31.657,\n",
              "       13.169, 21.297, 17.117, 21.874, 27.554, 35.694, 27.796, 21.135,\n",
              "       14.946, 47.908, 17.787, 22.575, 20.977, 11.6  , 21.288,  8.053,\n",
              "       16.303, 26.276, 32.613, 10.584, 31.631, 16.554, 34.729, 20.193,\n",
              "       21.427, 22.307, 27.066, 23.158, 34.547, 14.428, 18.531, 13.988,\n",
              "       22.17 , 21.051,  9.85 , 13.719, 24.017, 29.941, 20.24 , 15.266,\n",
              "       27.557, 17.225, 36.14 , 24.038, 23.029, 16.288, 20.659, 10.645,\n",
              "       23.42 , 36.411, 20.581, 17.201, 20.142, 41.521, 24.246, 24.976,\n",
              "       23.875, 17.513, 20.571, 23.187, 20.918, 19.526, 20.819, 21.135,\n",
              "       14.272, 20.061, 16.271, 21.729, 20.221, 17.949, 30.374, 15.581,\n",
              "       39.114, 28.268, 25.456, 21.39 ,  9.204, 21.537, 46.034, 22.963,\n",
              "       35.098, 15.522, 34.021, 19.851, 14.061,  8.76 , 33.784, 22.429,\n",
              "       20.396, 19.333, 21.009,  8.095, 25.77 , 16.796,  9.672, 21.681,\n",
              "       14.236,  9.457, 23.865, 19.503, 19.529, 10.556, 24.279, 19.797,\n",
              "       23.884, 35.404, 20.854, 20.242, 19.802, 27.208, 21.14 , 26.757,\n",
              "       10.443, 32.808, 33.926, 32.298, 32.427, 33.911, 21.132, 28.656,\n",
              "       33.895, 18.222, 12.901, 35.011, 15.632, 27.001, 19.618, 20.352,\n",
              "       22.942, 30.238, 23.508, 27.111, 24.404, 14.452, 19.895, 20.756,\n",
              "       16.12 , 27.766, 43.744, 21.234, 45.305, 40.177, 34.126, 15.668,\n",
              "       28.385, 22.702, 46.296, 10.577, 12.487, 23.862, 23.061,  8.91 ,\n",
              "       25.392, 17.149, 21.   , 19.568, 17.032, 13.591, 12.361, 23.501,\n",
              "       28.595, 24.311, 21.128, 23.7  , 15.502, 19.265, 31.947, 24.606,\n",
              "        7.676, 24.769, 15.318, 21.628, 21.293, 12.912, 21.713, 18.159,\n",
              "       21.953, 26.773, 22.991, 21.13 , 19.485, 22.206, 30.387, 23.36 ,\n",
              "       14.143, 34.169, 14.076, 22.103, 24.498,  8.293, 31.712, 12.582,\n",
              "       21.665, 19.819])"
            ]
          },
          "metadata": {},
          "execution_count": 34
        }
      ]
    },
    {
      "cell_type": "markdown",
      "metadata": {
        "id": "zuUmYnv_fHUH"
      },
      "source": [
        "#**Find Errors**"
      ]
    },
    {
      "cell_type": "code",
      "metadata": {
        "colab": {
          "base_uri": "https://localhost:8080/"
        },
        "id": "lguqhECmfWDs",
        "outputId": "445eede2-c755-4fcf-fb85-f4c8922c25e7"
      },
      "source": [
        "#finnd MAE, MSE, RMSE errors\n",
        "print('MAE:',metrics.mean_absolute_error(y_train, y_pred))\n",
        "print('MSE:',metrics.mean_squared_error(y_train, y_pred))\n",
        "print('RMSE:',np.sqrt(metrics.mean_squared_error(y_train, y_pred)))"
      ],
      "execution_count": 35,
      "outputs": [
        {
          "output_type": "stream",
          "name": "stdout",
          "text": [
            "MAE: 0.8384463276836154\n",
            "MSE: 1.668656231638419\n",
            "RMSE: 1.2917647741126939\n"
          ]
        }
      ]
    },
    {
      "cell_type": "markdown",
      "metadata": {
        "id": "GAVRvlqggHiP"
      },
      "source": [
        "#**Visualizing the differences between actual prices and predicted values**\n"
      ]
    },
    {
      "cell_type": "code",
      "metadata": {
        "id": "MF9BwmczgPEp",
        "colab": {
          "base_uri": "https://localhost:8080/",
          "height": 295
        },
        "outputId": "8fccf614-9419-4d6c-a92c-42e7b1dd6e19"
      },
      "source": [
        "plt.scatter(y_train, y_pred, s=15, c=\"green\")\n",
        "plt.xlabel(\"Prices of House\")\n",
        "plt.ylabel(\"Predicted prices\")\n",
        "plt.title(\"Prices of House vs Predicted prices\")\n",
        "plt.show()"
      ],
      "execution_count": 36,
      "outputs": [
        {
          "output_type": "display_data",
          "data": {
            "image/png": "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\n",
            "text/plain": [
              "<Figure size 432x288 with 1 Axes>"
            ]
          },
          "metadata": {
            "needs_background": "light"
          }
        }
      ]
    },
    {
      "cell_type": "code",
      "metadata": {
        "id": "nLw3H2QsgVHt",
        "colab": {
          "base_uri": "https://localhost:8080/",
          "height": 295
        },
        "outputId": "c5a505bd-df00-4edd-8e4a-65524c0b0ccf"
      },
      "source": [
        "plt.scatter(y_pred,y_train-y_pred, s=20, c=\"red\")\n",
        "plt.title(\"Predicted vs residuals\")\n",
        "plt.xlabel(\"Predicted\")\n",
        "plt.ylabel(\"Residuals\")\n",
        "plt.show()"
      ],
      "execution_count": 37,
      "outputs": [
        {
          "output_type": "display_data",
          "data": {
            "image/png": "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\n",
            "text/plain": [
              "<Figure size 432x288 with 1 Axes>"
            ]
          },
          "metadata": {
            "needs_background": "light"
          }
        }
      ]
    },
    {
      "cell_type": "markdown",
      "metadata": {
        "id": "iohHXgPUhG-s"
      },
      "source": [
        "#**Conclusion :**\n",
        "* RandomForestregressor is Perfectly suit for this dataset to predict the value\n",
        "* R-square value for this prediction using regression is 97% on this Dataset\n",
      ]
    },
    {
      "cell_type": "markdown",
      "metadata": {
        "id": "ySlIxCjQiig7"
      },
      "source": [
        "#**THANK YOU**"
      ]
    }
  ]
}
