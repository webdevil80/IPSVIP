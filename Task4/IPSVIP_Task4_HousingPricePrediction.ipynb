{
  "nbformat": 4,
  "nbformat_minor": 0,
  "metadata": {
    "colab": {
      "name": "Housing Price Prediction.ipynb",
      "provenance": [],
      "collapsed_sections": [
        "uDIh3qbmZgx0"
      ],
      "include_colab_link": true
    },
    "kernelspec": {
      "name": "python3",
      "display_name": "Python 3"
    },
    "language_info": {
      "name": "python"
    }
  },
  "cells": [
    {
      "cell_type": "markdown",
      "metadata": {
        "id": "view-in-github",
        "colab_type": "text"
      },
      "source": [
        "<a href=\"https://colab.research.google.com/github/webdevil80/IPSVIP/blob/main/Task4/IPSVIP_Task4_HousingPricePrediction.ipynb\" target=\"_parent\"><img src=\"https://colab.research.google.com/assets/colab-badge.svg\" alt=\"Open In Colab\"/></a>"
      ]
    },
    {
      "cell_type": "markdown",
      "metadata": {
        "id": "uDIh3qbmZgx0"
      },
      "source": [
        "#InfoPillar Solution Pvt Ltd\n",
        "## IPS Virtual Remote Internship\n",
        "\n",
        "---\n",
        "\n",
        "####Task :- Housing Pricing Prediction using ML\n",
        "#### Dataset: http://lib.stat.cmu.edu/datasets/boston\n",
        "#### **AUTHOR : VETRIVEL D**"
      ]
    },
    {
      "cell_type": "markdown",
      "metadata": {
        "id": "6T7bGFCmaHdl"
      },
      "source": [
        "#**Importing the libraries and import database**"
      ]
    },
    {
      "cell_type": "code",
      "metadata": {
        "id": "SIyUEuhtaQvc"
      },
      "source": [
        "#import libraries\n",
        "import pandas as pd\n",
        "import numpy as np\n",
        "from sklearn import metrics\n",
        "import matplotlib.pyplot as plt\n",
        "import seaborn as sns\n",
        "%matplotlib inline"
      ],
      "execution_count": 2,
      "outputs": []
    },
    {
      "cell_type": "code",
      "metadata": {
        "colab": {
          "base_uri": "https://localhost:8080/"
        },
        "id": "bDfe-ISkb3Yo",
        "outputId": "e7b2707d-131c-419b-80fa-fe743b66f488"
      },
      "source": [
        "#import dataset\n",
        "from sklearn.datasets import load_boston\n",
        "boston = load_boston()"
      ],
      "execution_count": 3,
      "outputs": [
        {
          "output_type": "stream",
          "name": "stderr",
          "text": [
            "/usr/local/lib/python3.7/dist-packages/sklearn/utils/deprecation.py:87: FutureWarning: Function load_boston is deprecated; `load_boston` is deprecated in 1.0 and will be removed in 1.2.\n",
            "\n",
            "    The Boston housing prices dataset has an ethical problem. You can refer to\n",
            "    the documentation of this function for further details.\n",
            "\n",
            "    The scikit-learn maintainers therefore strongly discourage the use of this\n",
            "    dataset unless the purpose of the code is to study and educate about\n",
            "    ethical issues in data science and machine learning.\n",
            "\n",
            "    In this special case, you can fetch the dataset from the original\n",
            "    source::\n",
            "\n",
            "        import pandas as pd\n",
            "        import numpy as np\n",
            "\n",
            "\n",
            "        data_url = \"http://lib.stat.cmu.edu/datasets/boston\"\n",
            "        raw_df = pd.read_csv(data_url, sep=\"\\s+\", skiprows=22, header=None)\n",
            "        data = np.hstack([raw_df.values[::2, :], raw_df.values[1::2, :2]])\n",
            "        target = raw_df.values[1::2, 2]\n",
            "\n",
            "    Alternative datasets include the California housing dataset (i.e.\n",
            "    :func:`~sklearn.datasets.fetch_california_housing`) and the Ames housing\n",
            "    dataset. You can load the datasets as follows::\n",
            "\n",
            "        from sklearn.datasets import fetch_california_housing\n",
            "        housing = fetch_california_housing()\n",
            "\n",
            "    for the California housing dataset and::\n",
            "\n",
            "        from sklearn.datasets import fetch_openml\n",
            "        housing = fetch_openml(name=\"house_prices\", as_frame=True)\n",
            "\n",
            "    for the Ames housing dataset.\n",
            "    \n",
            "  warnings.warn(msg, category=FutureWarning)\n"
          ]
        }
      ]
    },
    {
      "cell_type": "code",
      "metadata": {
        "id": "h8ItrUSKcIdL"
      },
      "source": [
        "#initialize the dataframe\n",
        "data = pd.DataFrame(boston.data)"
      ],
      "execution_count": 4,
      "outputs": []
    },
    {
      "cell_type": "code",
      "metadata": {
        "colab": {
          "base_uri": "https://localhost:8080/",
          "height": 206
        },
        "id": "dNlG9hT0cUvC",
        "outputId": "655609c9-12d6-456a-ccc1-f1f919220efc"
      },
      "source": [
        "data.head()"
      ],
      "execution_count": 5,
      "outputs": [
        {
          "output_type": "execute_result",
          "data": {
            "text/html": [
              "<div>\n",
              "<style scoped>\n",
              "    .dataframe tbody tr th:only-of-type {\n",
              "        vertical-align: middle;\n",
              "    }\n",
              "\n",
              "    .dataframe tbody tr th {\n",
              "        vertical-align: top;\n",
              "    }\n",
              "\n",
              "    .dataframe thead th {\n",
              "        text-align: right;\n",
              "    }\n",
              "</style>\n",
              "<table border=\"1\" class=\"dataframe\">\n",
              "  <thead>\n",
              "    <tr style=\"text-align: right;\">\n",
              "      <th></th>\n",
              "      <th>0</th>\n",
              "      <th>1</th>\n",
              "      <th>2</th>\n",
              "      <th>3</th>\n",
              "      <th>4</th>\n",
              "      <th>5</th>\n",
              "      <th>6</th>\n",
              "      <th>7</th>\n",
              "      <th>8</th>\n",
              "      <th>9</th>\n",
              "      <th>10</th>\n",
              "      <th>11</th>\n",
              "      <th>12</th>\n",
              "    </tr>\n",
              "  </thead>\n",
              "  <tbody>\n",
              "    <tr>\n",
              "      <th>0</th>\n",
              "      <td>0.00632</td>\n",
              "      <td>18.0</td>\n",
              "      <td>2.31</td>\n",
              "      <td>0.0</td>\n",
              "      <td>0.538</td>\n",
              "      <td>6.575</td>\n",
              "      <td>65.2</td>\n",
              "      <td>4.0900</td>\n",
              "      <td>1.0</td>\n",
              "      <td>296.0</td>\n",
              "      <td>15.3</td>\n",
              "      <td>396.90</td>\n",
              "      <td>4.98</td>\n",
              "    </tr>\n",
              "    <tr>\n",
              "      <th>1</th>\n",
              "      <td>0.02731</td>\n",
              "      <td>0.0</td>\n",
              "      <td>7.07</td>\n",
              "      <td>0.0</td>\n",
              "      <td>0.469</td>\n",
              "      <td>6.421</td>\n",
              "      <td>78.9</td>\n",
              "      <td>4.9671</td>\n",
              "      <td>2.0</td>\n",
              "      <td>242.0</td>\n",
              "      <td>17.8</td>\n",
              "      <td>396.90</td>\n",
              "      <td>9.14</td>\n",
              "    </tr>\n",
              "    <tr>\n",
              "      <th>2</th>\n",
              "      <td>0.02729</td>\n",
              "      <td>0.0</td>\n",
              "      <td>7.07</td>\n",
              "      <td>0.0</td>\n",
              "      <td>0.469</td>\n",
              "      <td>7.185</td>\n",
              "      <td>61.1</td>\n",
              "      <td>4.9671</td>\n",
              "      <td>2.0</td>\n",
              "      <td>242.0</td>\n",
              "      <td>17.8</td>\n",
              "      <td>392.83</td>\n",
              "      <td>4.03</td>\n",
              "    </tr>\n",
              "    <tr>\n",
              "      <th>3</th>\n",
              "      <td>0.03237</td>\n",
              "      <td>0.0</td>\n",
              "      <td>2.18</td>\n",
              "      <td>0.0</td>\n",
              "      <td>0.458</td>\n",
              "      <td>6.998</td>\n",
              "      <td>45.8</td>\n",
              "      <td>6.0622</td>\n",
              "      <td>3.0</td>\n",
              "      <td>222.0</td>\n",
              "      <td>18.7</td>\n",
              "      <td>394.63</td>\n",
              "      <td>2.94</td>\n",
              "    </tr>\n",
              "    <tr>\n",
              "      <th>4</th>\n",
              "      <td>0.06905</td>\n",
              "      <td>0.0</td>\n",
              "      <td>2.18</td>\n",
              "      <td>0.0</td>\n",
              "      <td>0.458</td>\n",
              "      <td>7.147</td>\n",
              "      <td>54.2</td>\n",
              "      <td>6.0622</td>\n",
              "      <td>3.0</td>\n",
              "      <td>222.0</td>\n",
              "      <td>18.7</td>\n",
              "      <td>396.90</td>\n",
              "      <td>5.33</td>\n",
              "    </tr>\n",
              "  </tbody>\n",
              "</table>\n",
              "</div>"
            ],
            "text/plain": [
              "        0     1     2    3      4   ...   8      9     10      11    12\n",
              "0  0.00632  18.0  2.31  0.0  0.538  ...  1.0  296.0  15.3  396.90  4.98\n",
              "1  0.02731   0.0  7.07  0.0  0.469  ...  2.0  242.0  17.8  396.90  9.14\n",
              "2  0.02729   0.0  7.07  0.0  0.469  ...  2.0  242.0  17.8  392.83  4.03\n",
              "3  0.03237   0.0  2.18  0.0  0.458  ...  3.0  222.0  18.7  394.63  2.94\n",
              "4  0.06905   0.0  2.18  0.0  0.458  ...  3.0  222.0  18.7  396.90  5.33\n",
              "\n",
              "[5 rows x 13 columns]"
            ]
          },
          "metadata": {},
          "execution_count": 5
        }
      ]
    },
    {
      "cell_type": "code",
      "metadata": {
        "colab": {
          "base_uri": "https://localhost:8080/",
          "height": 206
        },
        "id": "ok12eQZdckMb",
        "outputId": "84fa339c-5cca-4d26-a66c-7b548d0520f6"
      },
      "source": [
        "#Adding feature names to the dataframe\n",
        "data.columns = boston.feature_names\n",
        "data.head()"
      ],
      "execution_count": 6,
      "outputs": [
        {
          "output_type": "execute_result",
          "data": {
            "text/html": [
              "<div>\n",
              "<style scoped>\n",
              "    .dataframe tbody tr th:only-of-type {\n",
              "        vertical-align: middle;\n",
              "    }\n",
              "\n",
              "    .dataframe tbody tr th {\n",
              "        vertical-align: top;\n",
              "    }\n",
              "\n",
              "    .dataframe thead th {\n",
              "        text-align: right;\n",
              "    }\n",
              "</style>\n",
              "<table border=\"1\" class=\"dataframe\">\n",
              "  <thead>\n",
              "    <tr style=\"text-align: right;\">\n",
              "      <th></th>\n",
              "      <th>CRIM</th>\n",
              "      <th>ZN</th>\n",
              "      <th>INDUS</th>\n",
              "      <th>CHAS</th>\n",
              "      <th>NOX</th>\n",
              "      <th>RM</th>\n",
              "      <th>AGE</th>\n",
              "      <th>DIS</th>\n",
              "      <th>RAD</th>\n",
              "      <th>TAX</th>\n",
              "      <th>PTRATIO</th>\n",
              "      <th>B</th>\n",
              "      <th>LSTAT</th>\n",
              "    </tr>\n",
              "  </thead>\n",
              "  <tbody>\n",
              "    <tr>\n",
              "      <th>0</th>\n",
              "      <td>0.00632</td>\n",
              "      <td>18.0</td>\n",
              "      <td>2.31</td>\n",
              "      <td>0.0</td>\n",
              "      <td>0.538</td>\n",
              "      <td>6.575</td>\n",
              "      <td>65.2</td>\n",
              "      <td>4.0900</td>\n",
              "      <td>1.0</td>\n",
              "      <td>296.0</td>\n",
              "      <td>15.3</td>\n",
              "      <td>396.90</td>\n",
              "      <td>4.98</td>\n",
              "    </tr>\n",
              "    <tr>\n",
              "      <th>1</th>\n",
              "      <td>0.02731</td>\n",
              "      <td>0.0</td>\n",
              "      <td>7.07</td>\n",
              "      <td>0.0</td>\n",
              "      <td>0.469</td>\n",
              "      <td>6.421</td>\n",
              "      <td>78.9</td>\n",
              "      <td>4.9671</td>\n",
              "      <td>2.0</td>\n",
              "      <td>242.0</td>\n",
              "      <td>17.8</td>\n",
              "      <td>396.90</td>\n",
              "      <td>9.14</td>\n",
              "    </tr>\n",
              "    <tr>\n",
              "      <th>2</th>\n",
              "      <td>0.02729</td>\n",
              "      <td>0.0</td>\n",
              "      <td>7.07</td>\n",
              "      <td>0.0</td>\n",
              "      <td>0.469</td>\n",
              "      <td>7.185</td>\n",
              "      <td>61.1</td>\n",
              "      <td>4.9671</td>\n",
              "      <td>2.0</td>\n",
              "      <td>242.0</td>\n",
              "      <td>17.8</td>\n",
              "      <td>392.83</td>\n",
              "      <td>4.03</td>\n",
              "    </tr>\n",
              "    <tr>\n",
              "      <th>3</th>\n",
              "      <td>0.03237</td>\n",
              "      <td>0.0</td>\n",
              "      <td>2.18</td>\n",
              "      <td>0.0</td>\n",
              "      <td>0.458</td>\n",
              "      <td>6.998</td>\n",
              "      <td>45.8</td>\n",
              "      <td>6.0622</td>\n",
              "      <td>3.0</td>\n",
              "      <td>222.0</td>\n",
              "      <td>18.7</td>\n",
              "      <td>394.63</td>\n",
              "      <td>2.94</td>\n",
              "    </tr>\n",
              "    <tr>\n",
              "      <th>4</th>\n",
              "      <td>0.06905</td>\n",
              "      <td>0.0</td>\n",
              "      <td>2.18</td>\n",
              "      <td>0.0</td>\n",
              "      <td>0.458</td>\n",
              "      <td>7.147</td>\n",
              "      <td>54.2</td>\n",
              "      <td>6.0622</td>\n",
              "      <td>3.0</td>\n",
              "      <td>222.0</td>\n",
              "      <td>18.7</td>\n",
              "      <td>396.90</td>\n",
              "      <td>5.33</td>\n",
              "    </tr>\n",
              "  </tbody>\n",
              "</table>\n",
              "</div>"
            ],
            "text/plain": [
              "      CRIM    ZN  INDUS  CHAS    NOX  ...  RAD    TAX  PTRATIO       B  LSTAT\n",
              "0  0.00632  18.0   2.31   0.0  0.538  ...  1.0  296.0     15.3  396.90   4.98\n",
              "1  0.02731   0.0   7.07   0.0  0.469  ...  2.0  242.0     17.8  396.90   9.14\n",
              "2  0.02729   0.0   7.07   0.0  0.469  ...  2.0  242.0     17.8  392.83   4.03\n",
              "3  0.03237   0.0   2.18   0.0  0.458  ...  3.0  222.0     18.7  394.63   2.94\n",
              "4  0.06905   0.0   2.18   0.0  0.458  ...  3.0  222.0     18.7  396.90   5.33\n",
              "\n",
              "[5 rows x 13 columns]"
            ]
          },
          "metadata": {},
          "execution_count": 6
        }
      ]
    },
    {
      "cell_type": "code",
      "metadata": {
        "id": "uYljtlb2cwLr"
      },
      "source": [
        "#declare target variable \n",
        "data['PRICE_VAL'] = boston.target"
      ],
      "execution_count": 7,
      "outputs": []
    },
    {
      "cell_type": "code",
      "metadata": {
        "colab": {
          "base_uri": "https://localhost:8080/"
        },
        "id": "jp_wnU72c-Lm",
        "outputId": "1e21010d-1111-4710-d363-8f5980453527"
      },
      "source": [
        "data.shape"
      ],
      "execution_count": 8,
      "outputs": [
        {
          "output_type": "execute_result",
          "data": {
            "text/plain": [
              "(506, 14)"
            ]
          },
          "metadata": {},
          "execution_count": 8
        }
      ]
    },
    {
      "cell_type": "code",
      "source": [
        "data.columns"
      ],
      "metadata": {
        "id": "agmXSVcnZ7Ww",
        "outputId": "fabfa4ca-98f0-4fdc-c05a-0ebb9d0b4acf",
        "colab": {
          "base_uri": "https://localhost:8080/"
        }
      },
      "execution_count": 9,
      "outputs": [
        {
          "output_type": "execute_result",
          "data": {
            "text/plain": [
              "Index(['CRIM', 'ZN', 'INDUS', 'CHAS', 'NOX', 'RM', 'AGE', 'DIS', 'RAD', 'TAX',\n",
              "       'PTRATIO', 'B', 'LSTAT', 'PRICE_VAL'],\n",
              "      dtype='object')"
            ]
          },
          "metadata": {},
          "execution_count": 9
        }
      ]
    },
    {
      "cell_type": "code",
      "source": [
        "data.dtypes"
      ],
      "metadata": {
        "id": "334_1HYEZ9Sl",
        "outputId": "0bf5fd63-9925-4060-d2da-b2cacee4e7ee",
        "colab": {
          "base_uri": "https://localhost:8080/"
        }
      },
      "execution_count": 10,
      "outputs": [
        {
          "output_type": "execute_result",
          "data": {
            "text/plain": [
              "CRIM         float64\n",
              "ZN           float64\n",
              "INDUS        float64\n",
              "CHAS         float64\n",
              "NOX          float64\n",
              "RM           float64\n",
              "AGE          float64\n",
              "DIS          float64\n",
              "RAD          float64\n",
              "TAX          float64\n",
              "PTRATIO      float64\n",
              "B            float64\n",
              "LSTAT        float64\n",
              "PRICE_VAL    float64\n",
              "dtype: object"
            ]
          },
          "metadata": {},
          "execution_count": 10
        }
      ]
    },
    {
      "cell_type": "code",
      "metadata": {
        "colab": {
          "base_uri": "https://localhost:8080/"
        },
        "id": "wFlseJAade3f",
        "outputId": "c2faf91d-3ba1-4634-9958-66e2f068135d"
      },
      "source": [
        "#Checking missing values\n",
        "data.isnull().sum()"
      ],
      "execution_count": 11,
      "outputs": [
        {
          "output_type": "execute_result",
          "data": {
            "text/plain": [
              "CRIM         0\n",
              "ZN           0\n",
              "INDUS        0\n",
              "CHAS         0\n",
              "NOX          0\n",
              "RM           0\n",
              "AGE          0\n",
              "DIS          0\n",
              "RAD          0\n",
              "TAX          0\n",
              "PTRATIO      0\n",
              "B            0\n",
              "LSTAT        0\n",
              "PRICE_VAL    0\n",
              "dtype: int64"
            ]
          },
          "metadata": {},
          "execution_count": 11
        }
      ]
    },
    {
      "cell_type": "code",
      "metadata": {
        "colab": {
          "base_uri": "https://localhost:8080/"
        },
        "id": "StnwU9bTdzIB",
        "outputId": "3e82359e-5a79-4e13-8c8d-af41e6e6c944"
      },
      "source": [
        "#describe our data and find correlation for the data\n",
        "data.describe()\n",
        "corr = data.corr()\n",
        "corr.shape"
      ],
      "execution_count": 12,
      "outputs": [
        {
          "output_type": "execute_result",
          "data": {
            "text/plain": [
              "(14, 14)"
            ]
          },
          "metadata": {},
          "execution_count": 12
        }
      ]
    },
    {
      "cell_type": "markdown",
      "metadata": {
        "id": "Nw_quSpCeVb_"
      },
      "source": [
        "#**Spliting data as  predict_value-X  and  target_value-y**"
      ]
    },
    {
      "cell_type": "code",
      "metadata": {
        "id": "8F1ddtGAeaHq"
      },
      "source": [
        "X = data.drop(['PRICE_VAL'], axis = 1)\n",
        "y = data['PRICE_VAL']"
      ],
      "execution_count": 13,
      "outputs": []
    },
    {
      "cell_type": "code",
      "metadata": {
        "id": "X1mERr4qejjf"
      },
      "source": [
        "from sklearn.model_selection import train_test_split\n",
        "X_train, X_test, y_train, y_test = train_test_split(X,y, test_size = 0.3, random_state = 4)"
      ],
      "execution_count": 14,
      "outputs": []
    },
    {
      "cell_type": "markdown",
      "metadata": {
        "id": "cDrpexxlepit"
      },
      "source": [
        "#**Importing random Forest regressor**"
      ]
    },
    {
      "cell_type": "code",
      "metadata": {
        "colab": {
          "base_uri": "https://localhost:8080/"
        },
        "id": "gVuWMfC4ewH-",
        "outputId": "ea98a925-cbde-4892-9874-07f9eb44b16b"
      },
      "source": [
        "from sklearn.ensemble import RandomForestRegressor\n",
        "reg = RandomForestRegressor()\n",
        "reg.fit(X_train, y_train)"
      ],
      "execution_count": 15,
      "outputs": [
        {
          "output_type": "execute_result",
          "data": {
            "text/plain": [
              "RandomForestRegressor()"
            ]
          },
          "metadata": {},
          "execution_count": 15
        }
      ]
    },
    {
      "cell_type": "code",
      "metadata": {
        "id": "Pshw3uGbfDNd",
        "colab": {
          "base_uri": "https://localhost:8080/"
        },
        "outputId": "491a4c08-196b-4242-ff3d-429efa3fee30"
      },
      "source": [
        "#model prediction\n",
        "y_pred = reg.predict(X_train)\n",
        "y_pred"
      ],
      "execution_count": 16,
      "outputs": [
        {
          "output_type": "execute_result",
          "data": {
            "text/plain": [
              "array([23.07 , 18.68 , 19.983, 13.681, 48.088, 21.954, 47.663, 13.984,\n",
              "       20.826, 48.972, 34.495,  9.543, 15.563, 22.667, 24.607, 25.196,\n",
              "       18.027, 46.114, 22.99 , 21.138, 18.345, 19.186, 19.418, 14.658,\n",
              "       22.792, 14.816, 15.612, 45.88 , 20.671, 14.188, 16.933, 21.709,\n",
              "       21.796, 21.574, 23.542, 18.1  , 16.244,  5.492,  8.877, 26.04 ,\n",
              "       18.936, 21.315, 30.113,  6.155, 11.609,  7.635, 33.152, 14.802,\n",
              "       12.807, 26.44 , 17.419,  6.4  , 23.093, 23.456, 22.786, 18.634,\n",
              "       13.536, 23.213, 24.678, 15.131,  9.657, 22.135, 23.112, 27.034,\n",
              "       14.675, 18.855, 20.22 , 15.006, 20.296, 17.817, 20.229, 42.293,\n",
              "       32.326, 20.259, 17.032, 19.369, 21.514, 32.657, 46.092, 33.164,\n",
              "       20.601, 21.26 ,  8.846, 12.283, 14.208, 22.884, 18.418, 21.301,\n",
              "       21.654, 21.231, 17.552, 22.64 , 35.278, 28.756, 12.141, 19.506,\n",
              "       22.108,  9.362, 21.552, 19.232, 20.882, 23.537, 23.533, 16.873,\n",
              "       25.906, 49.414, 10.05 , 18.096, 13.956, 15.599, 17.249, 16.   ,\n",
              "       20.903, 20.722, 28.768, 21.595, 22.32 , 24.523, 25.814, 36.494,\n",
              "       18.731, 27.743, 19.179, 21.851, 23.323, 24.007, 26.703, 21.023,\n",
              "       22.848, 18.985, 15.725, 23.261, 13.76 , 18.968, 20.964, 21.84 ,\n",
              "       23.204, 21.724, 20.89 , 11.92 , 23.105, 23.769, 23.267, 14.053,\n",
              "       24.447, 20.921, 20.031, 31.356, 47.255, 14.509, 34.89 , 22.597,\n",
              "       19.287, 19.639, 13.656, 15.43 , 24.829, 28.909, 25.069, 31.05 ,\n",
              "       12.707, 21.38 , 17.138, 22.247, 27.675, 35.708, 27.905, 21.248,\n",
              "       14.563, 48.135, 17.565, 22.707, 20.653, 11.647, 21.259,  7.769,\n",
              "       16.398, 26.575, 32.339, 10.185, 31.86 , 16.522, 34.725, 20.181,\n",
              "       21.965, 22.547, 26.715, 23.115, 34.297, 14.435, 18.828, 14.254,\n",
              "       21.657, 21.262,  9.662, 13.722, 23.998, 29.439, 20.525, 15.537,\n",
              "       27.754, 18.055, 35.756, 22.146, 23.269, 16.264, 20.787, 10.68 ,\n",
              "       23.503, 36.374, 20.206, 17.217, 20.462, 41.227, 24.268, 25.144,\n",
              "       24.41 , 17.813, 20.702, 22.875, 21.462, 19.706, 20.801, 21.133,\n",
              "       14.136, 20.089, 16.541, 21.864, 20.065, 18.083, 30.185, 15.341,\n",
              "       38.217, 28.026, 25.925, 21.395,  9.068, 21.245, 45.649, 23.217,\n",
              "       35.326, 15.512, 34.011, 19.865, 13.881,  8.892, 33.716, 22.483,\n",
              "       20.592, 19.748, 21.002,  8.844, 25.732, 16.639,  9.492, 21.553,\n",
              "       14.627,  9.823, 23.844, 19.309, 19.219, 10.831, 24.302, 19.822,\n",
              "       24.346, 34.862, 21.127, 20.196, 19.694, 27.703, 20.998, 26.554,\n",
              "       10.741, 31.006, 33.551, 32.157, 32.036, 34.044, 20.991, 29.152,\n",
              "       33.721, 17.919, 12.934, 34.256, 15.393, 27.107, 19.428, 20.08 ,\n",
              "       22.695, 30.613, 23.639, 26.452, 23.778, 14.411, 19.949, 20.279,\n",
              "       15.812, 27.89 , 43.743, 21.584, 46.156, 43.692, 34.274, 15.553,\n",
              "       28.496, 22.695, 46.313, 10.913, 12.511, 23.812, 23.319,  8.966,\n",
              "       24.779, 17.258, 21.165, 19.869, 17.11 , 13.366, 12.862, 23.364,\n",
              "       28.811, 24.155, 20.982, 23.416, 15.57 , 19.346, 31.316, 25.339,\n",
              "        7.82 , 24.707, 15.13 , 21.719, 21.359, 12.151, 21.836, 18.409,\n",
              "       22.025, 26.184, 22.764, 21.052, 19.18 , 22.247, 30.728, 23.478,\n",
              "       14.049, 34.482, 13.382, 22.281, 23.881,  8.254, 31.423, 12.514,\n",
              "       21.831, 19.054])"
            ]
          },
          "metadata": {},
          "execution_count": 16
        }
      ]
    },
    {
      "cell_type": "code",
      "source": [
        "op_train1 = pd.DataFrame({\n",
        "    'Actual' : y_train,\n",
        "    'Predicted':y_pred\n",
        "})\n",
        "op_train1"
      ],
      "metadata": {
        "colab": {
          "base_uri": "https://localhost:8080/",
          "height": 424
        },
        "id": "Z2ke1CXeDnpL",
        "outputId": "83f23281-0e3d-42c8-8b56-59fe87d85832"
      },
      "execution_count": 26,
      "outputs": [
        {
          "output_type": "execute_result",
          "data": {
            "text/html": [
              "<div>\n",
              "<style scoped>\n",
              "    .dataframe tbody tr th:only-of-type {\n",
              "        vertical-align: middle;\n",
              "    }\n",
              "\n",
              "    .dataframe tbody tr th {\n",
              "        vertical-align: top;\n",
              "    }\n",
              "\n",
              "    .dataframe thead th {\n",
              "        text-align: right;\n",
              "    }\n",
              "</style>\n",
              "<table border=\"1\" class=\"dataframe\">\n",
              "  <thead>\n",
              "    <tr style=\"text-align: right;\">\n",
              "      <th></th>\n",
              "      <th>Actual</th>\n",
              "      <th>Predicted</th>\n",
              "    </tr>\n",
              "  </thead>\n",
              "  <tbody>\n",
              "    <tr>\n",
              "      <th>84</th>\n",
              "      <td>23.9</td>\n",
              "      <td>23.070</td>\n",
              "    </tr>\n",
              "    <tr>\n",
              "      <th>354</th>\n",
              "      <td>18.2</td>\n",
              "      <td>18.680</td>\n",
              "    </tr>\n",
              "    <tr>\n",
              "      <th>221</th>\n",
              "      <td>21.7</td>\n",
              "      <td>19.983</td>\n",
              "    </tr>\n",
              "    <tr>\n",
              "      <th>34</th>\n",
              "      <td>13.5</td>\n",
              "      <td>13.681</td>\n",
              "    </tr>\n",
              "    <tr>\n",
              "      <th>267</th>\n",
              "      <td>50.0</td>\n",
              "      <td>48.088</td>\n",
              "    </tr>\n",
              "    <tr>\n",
              "      <th>...</th>\n",
              "      <td>...</td>\n",
              "      <td>...</td>\n",
              "    </tr>\n",
              "    <tr>\n",
              "      <th>385</th>\n",
              "      <td>7.2</td>\n",
              "      <td>8.254</td>\n",
              "    </tr>\n",
              "    <tr>\n",
              "      <th>197</th>\n",
              "      <td>30.3</td>\n",
              "      <td>31.423</td>\n",
              "    </tr>\n",
              "    <tr>\n",
              "      <th>439</th>\n",
              "      <td>12.8</td>\n",
              "      <td>12.514</td>\n",
              "    </tr>\n",
              "    <tr>\n",
              "      <th>174</th>\n",
              "      <td>22.6</td>\n",
              "      <td>21.831</td>\n",
              "    </tr>\n",
              "    <tr>\n",
              "      <th>122</th>\n",
              "      <td>20.5</td>\n",
              "      <td>19.054</td>\n",
              "    </tr>\n",
              "  </tbody>\n",
              "</table>\n",
              "<p>354 rows × 2 columns</p>\n",
              "</div>"
            ],
            "text/plain": [
              "     Actual  Predicted\n",
              "84     23.9     23.070\n",
              "354    18.2     18.680\n",
              "221    21.7     19.983\n",
              "34     13.5     13.681\n",
              "267    50.0     48.088\n",
              "..      ...        ...\n",
              "385     7.2      8.254\n",
              "197    30.3     31.423\n",
              "439    12.8     12.514\n",
              "174    22.6     21.831\n",
              "122    20.5     19.054\n",
              "\n",
              "[354 rows x 2 columns]"
            ]
          },
          "metadata": {},
          "execution_count": 26
        }
      ]
    },
    {
      "cell_type": "markdown",
      "metadata": {
        "id": "GAVRvlqggHiP"
      },
      "source": [
        "#**Visualizing the differences between actual prices and predicted values**\n"
      ]
    },
    {
      "cell_type": "code",
      "metadata": {
        "id": "MF9BwmczgPEp",
        "colab": {
          "base_uri": "https://localhost:8080/",
          "height": 295
        },
        "outputId": "b5e17c04-9058-4350-a860-a097f9eec9b9"
      },
      "source": [
        "plt.scatter(y_train, y_pred, s=15, c=\"green\")\n",
        "plt.xlabel(\"Prices of House\")\n",
        "plt.ylabel(\"Predicted prices\")\n",
        "plt.title(\"Prices of House vs Predicted prices\")\n",
        "plt.show()"
      ],
      "execution_count": 18,
      "outputs": [
        {
          "output_type": "display_data",
          "data": {
            "image/png": "[encoded data removed]",
            "text/plain": [
              "<Figure size 432x288 with 1 Axes>"
            ]
          },
          "metadata": {
            "needs_background": "light"
          }
        }
      ]
    },
    {
      "cell_type": "code",
      "source": [
        "sns.regplot(y_train,y_pred)"
      ],
      "metadata": {
        "colab": {
          "base_uri": "https://localhost:8080/",
          "height": 352
        },
        "id": "AqleSkkvDCIM",
        "outputId": "4008a25c-e317-4369-bbb5-6f2223b9057d"
      },
      "execution_count": 24,
      "outputs": [
        {
          "output_type": "stream",
          "name": "stderr",
          "text": [
            "/usr/local/lib/python3.7/dist-packages/seaborn/_decorators.py:43: FutureWarning: Pass the following variables as keyword args: x, y. From version 0.12, the only valid positional argument will be `data`, and passing other arguments without an explicit keyword will result in an error or misinterpretation.\n",
            "  FutureWarning\n"
          ]
        },
        {
          "output_type": "execute_result",
          "data": {
            "text/plain": [
              "<matplotlib.axes._subplots.AxesSubplot at 0x7f133cb64ed0>"
            ]
          },
          "metadata": {},
          "execution_count": 24
        },
        {
          "output_type": "display_data",
          "data": {
            "image/png": "[encoded data removed]",
            "text/plain": [
              "<Figure size 432x288 with 1 Axes>"
            ]
          },
          "metadata": {
            "needs_background": "light"
          }
        }
      ]
    },
    {
      "cell_type": "code",
      "metadata": {
        "id": "nLw3H2QsgVHt",
        "colab": {
          "base_uri": "https://localhost:8080/",
          "height": 295
        },
        "outputId": "12e80de7-4dc5-41ec-a669-c4cfd79e3705"
      },
      "source": [
        "plt.scatter(y_pred,y_train-y_pred, s=20, c=\"red\")\n",
        "plt.title(\"Predicted vs residuals\")\n",
        "plt.xlabel(\"Predicted\")\n",
        "plt.ylabel(\"Residuals\")\n",
        "plt.show()"
      ],
      "execution_count": 20,
      "outputs": [
        {
          "output_type": "display_data",
          "data": {
            "image/png": "[encoded data removed]",
            "text/plain": [
              "<Figure size 432x288 with 1 Axes>"
            ]
          },
          "metadata": {
            "needs_background": "light"
          }
        }
      ]
    },
    {
      "cell_type": "markdown",
      "metadata": {
        "id": "zuUmYnv_fHUH"
      },
      "source": [
        "#**Find Errors**"
      ]
    },
    {
      "cell_type": "code",
      "metadata": {
        "colab": {
          "base_uri": "https://localhost:8080/"
        },
        "id": "lguqhECmfWDs",
        "outputId": "e5a3d44a-fc0e-4316-fdf6-87805089efa5"
      },
      "source": [
        "#finnd MAE, MSE, RMSE errors\n",
        "print('MAE:',metrics.mean_absolute_error(y_train, y_pred))\n",
        "print('MSE:',metrics.mean_squared_error(y_train, y_pred))\n",
        "print('RMSE:',np.sqrt(metrics.mean_squared_error(y_train, y_pred)))"
      ],
      "execution_count": 17,
      "outputs": [
        {
          "output_type": "stream",
          "name": "stdout",
          "text": [
            "MAE: 0.8474293785310731\n",
            "MSE: 1.5428056101694938\n",
            "RMSE: 1.2420972627654783\n"
          ]
        }
      ]
    },
    {
      "cell_type": "markdown",
      "metadata": {
        "id": "iohHXgPUhG-s"
      },
      "source": [
        "#**Conclusion :**\n",
        "* RandomForestRegressor is the perfectly suitable method for predict house pricing value in this dataset\n",
        "* r-square or R2 Score of this prediction is 97% Accurate on this Dataset\n"
      ]
    },
    {
      "cell_type": "markdown",
      "metadata": {
        "id": "ySlIxCjQiig7"
      },
      "source": [
        "#**THANK YOU**"
      ]
    }
  ]
}
